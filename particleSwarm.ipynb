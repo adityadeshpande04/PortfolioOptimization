{
 "cells": [
  {
   "cell_type": "code",
   "execution_count": 2,
   "metadata": {},
   "outputs": [],
   "source": [
    "import numpy as np\n",
    "import pandas as pd\n",
    "from pprint import pprint\n",
    "import yfinance as yf\n",
    "from scipy.optimize import minimize\n",
    "import random"
   ]
  },
  {
   "cell_type": "code",
   "execution_count": 3,
   "metadata": {},
   "outputs": [],
   "source": [
    "tickers=[\"AAPL\",\"MSFT\",\"AMZN\",\"GOOGL\"]\n",
    "num_stocks=len(tickers)\n",
    "\n",
    "cl_price=pd.DataFrame()"
   ]
  },
  {
   "cell_type": "code",
   "execution_count": 4,
   "metadata": {},
   "outputs": [
    {
     "name": "stdout",
     "output_type": "stream",
     "text": [
      "[*********************100%%**********************]  1 of 1 completed\n",
      "[*********************100%%**********************]  1 of 1 completed\n",
      "[*********************100%%**********************]  1 of 1 completed\n",
      "[*********************100%%**********************]  1 of 1 completed\n"
     ]
    }
   ],
   "source": [
    "for ticker in tickers:\n",
    "    cl_price[ticker]=yf.download(ticker,period=\"1y\",interval=\"1d\")[\"Adj Close\"]\n",
    "\n",
    "cl_price.to_csv(\"Closing_price.csv\")"
   ]
  },
  {
   "cell_type": "code",
   "execution_count": 7,
   "metadata": {},
   "outputs": [
    {
     "name": "stdout",
     "output_type": "stream",
     "text": [
      "Optimal Asset Allocations using Particle Swarm:\n",
      "AAPL: 0.4639\n",
      "MSFT: 0.2471\n",
      "AMZN: 0.2518\n",
      "GOOGL: 0.0372\n",
      "Expected Portfolio Return: 0.4968\n",
      "Portfolio Risk (Standard Deviation): 0.2073\n",
      "Sharpe Ratio : 2.3963\n"
     ]
    }
   ],
   "source": [
    "returns = cl_price.pct_change().dropna()\n",
    "expected_returns = returns.mean()*252\n",
    "covariance_matrix = returns.cov()*252\n",
    "num_particles = 50\n",
    "num_dimensions = num_stocks  # Each dimension corresponds to an asset weight\n",
    "max_iterations = 100\n",
    "inertia_weight = 0.5  # Weight for the particle's current velocity\n",
    "cognitive_weight = 1.5  # Weight for the particle's best known position\n",
    "social_weight = 1.5     # Weight for the swarm's best known position\n",
    "\n",
    "def fitness_function(weights):\n",
    "    portfolio_return = np.sum(expected_returns * weights)\n",
    "    portfolio_risk = np.sqrt(np.dot(weights.T, np.dot(covariance_matrix, weights)))\n",
    "    sharpe_ratio = portfolio_return / portfolio_risk\n",
    "    return -sharpe_ratio  \n",
    "\n",
    "particles = []\n",
    "best_positions = []\n",
    "best_fitness_values = []\n",
    "for _ in range(num_particles):\n",
    "    particle = np.random.uniform(0, 1, num_stocks)   # Initialize a random portfolio allocation\n",
    "    particle /= np.sum(particle)  # Normalize to ensure weights sum to 1\n",
    "    particles.append(particle)\n",
    "    best_positions.append(particle) # Initialize the best-known position as the current position\n",
    "    fitness_value = fitness_function(particle)   # Evaluate the fitness of the initial position\n",
    "    best_fitness_values.append(fitness_value)\n",
    "\n",
    "global_best_position = best_positions[np.argmin(best_fitness_values)]\n",
    "global_best_fitness = min(best_fitness_values)\n",
    "for iteration in range(max_iterations):\n",
    "    for i in range(num_particles):\n",
    "        # Update the particle's velocity\n",
    "        inertia_term = inertia_weight * np.random.uniform(0, 1, num_dimensions) * (particles[i] - particles[i])\n",
    "        cognitive_term = cognitive_weight * np.random.uniform(0, 1, num_dimensions) * (best_positions[i] - particles[i])\n",
    "        social_term = social_weight * np.random.uniform(0, 1, num_dimensions) * (global_best_position - particles[i])\n",
    "        velocity = inertia_term + cognitive_term + social_term\n",
    "        # Update the particle's position\n",
    "        particles[i] += velocity\n",
    "        particles[i] = np.maximum(0, particles[i])  # Ensure non-negative weights\n",
    "        particles[i] /= np.sum(particles[i])  # Normalize weights\n",
    "        \n",
    "        fitness_value = fitness_function(particles[i]) # Evaluate the fitness of the new position\n",
    "        if fitness_value < best_fitness_values[i]:     # Update the particle's best-known position and fitness value\n",
    "            best_positions[i] = particles[i]\n",
    "            best_fitness_values[i] = fitness_value\n",
    "        \n",
    "        if fitness_value < global_best_fitness:        # Update the swarm's best-known position and fitness value\n",
    "            global_best_position = particles[i]\n",
    "            global_best_fitness = fitness_value\n",
    "        \n",
    "\n",
    "print(\"Optimal Asset Allocations using Particle Swarm:\")\n",
    "for i, symbol in enumerate(tickers):\n",
    "    print(f\"{symbol}: {global_best_position[i]:.4f}\")\n",
    "\n",
    "best_portfolio_return = np.sum(expected_returns * global_best_position)\n",
    "best_portfolio_risk = np.sqrt(np.dot(global_best_position.T, np.dot(covariance_matrix, global_best_position)))\n",
    "sharpe_ratio= best_portfolio_return/best_portfolio_risk\n",
    "\n",
    "print(f\"Expected Portfolio Return: {best_portfolio_return:.4f}\")\n",
    "print(f\"Portfolio Risk (Standard Deviation): {best_portfolio_risk:.4f}\")\n",
    "print(f\"Sharpe Ratio : {sharpe_ratio:.4f}\")"
   ]
  }
 ],
 "metadata": {
  "kernelspec": {
   "display_name": ".venv",
   "language": "python",
   "name": "python3"
  },
  "language_info": {
   "codemirror_mode": {
    "name": "ipython",
    "version": 3
   },
   "file_extension": ".py",
   "mimetype": "text/x-python",
   "name": "python",
   "nbconvert_exporter": "python",
   "pygments_lexer": "ipython3",
   "version": "3.10.2"
  },
  "orig_nbformat": 4
 },
 "nbformat": 4,
 "nbformat_minor": 2
}
