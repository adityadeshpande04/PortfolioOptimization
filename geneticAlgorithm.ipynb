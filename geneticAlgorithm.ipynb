{
 "cells": [
  {
   "cell_type": "code",
   "execution_count": 1,
   "metadata": {},
   "outputs": [],
   "source": [
    "import numpy as np\n",
    "import pandas as pd\n",
    "from pprint import pprint\n",
    "import yfinance as yf\n",
    "from scipy.optimize import minimize\n",
    "import random"
   ]
  },
  {
   "cell_type": "code",
   "execution_count": 2,
   "metadata": {},
   "outputs": [],
   "source": [
    "tickers=[\"AAPL\",\"MSFT\",\"AMZN\",\"GOOGL\"]\n",
    "num_stocks=len(tickers)\n",
    "\n",
    "cl_price=pd.DataFrame()"
   ]
  },
  {
   "cell_type": "code",
   "execution_count": 3,
   "metadata": {},
   "outputs": [
    {
     "name": "stdout",
     "output_type": "stream",
     "text": [
      "[*********************100%%**********************]  1 of 1 completed\n",
      "[*********************100%%**********************]  1 of 1 completed\n",
      "[*********************100%%**********************]  1 of 1 completed\n",
      "[*********************100%%**********************]  1 of 1 completed\n"
     ]
    }
   ],
   "source": [
    "for ticker in tickers:\n",
    "    cl_price[ticker]=yf.download(ticker,period=\"1y\",interval=\"1d\")[\"Adj Close\"]\n",
    "\n",
    "cl_price.to_csv(\"Closing_price.csv\")"
   ]
  },
  {
   "cell_type": "code",
   "execution_count": 4,
   "metadata": {},
   "outputs": [
    {
     "name": "stdout",
     "output_type": "stream",
     "text": [
      "Optimal Asset Allocations using Genetic Algorithm:\n",
      "AAPL: 0.4081\n",
      "MSFT: 0.2566\n",
      "AMZN: 0.2524\n",
      "GOOGL: 0.0829\n",
      "Expected Portfolio Return: 0.5021\n",
      "Portfolio Risk (Standard Deviation): 0.2100\n",
      "Sharpe Ratio : 2.3917\n"
     ]
    }
   ],
   "source": [
    "returns = cl_price.pct_change().dropna()\n",
    "expected_returns = returns.mean()*252\n",
    "covariance_matrix = returns.cov()*252\n",
    "\n",
    "def portfolio_sharpe_ratio(weights):\n",
    "    portfolio_return = np.sum(expected_returns * weights)\n",
    "    portfolio_risk = np.sqrt(np.dot(weights.T, np.dot(covariance_matrix, weights)))\n",
    "    sharpe_ratio = portfolio_return / portfolio_risk\n",
    "    return -sharpe_ratio \n",
    "\n",
    "def create_random_portfolio():\n",
    "    weights = np.array([random.uniform(0, 1) for _ in range(num_stocks)])\n",
    "    return weights / sum(weights) \n",
    "\n",
    "population_size = 100\n",
    "generations = 50\n",
    "population = [create_random_portfolio() for _ in range(population_size)]\n",
    "\n",
    "for _ in range(generations):\n",
    "    fitness_values = [portfolio_sharpe_ratio(weights) for weights in population]\n",
    "    elite_indices = np.argsort(fitness_values)[:population_size // 2]\n",
    "    elite_population = [population[i] for i in elite_indices]\n",
    "    new_population = []\n",
    "    for _ in range(population_size - len(elite_population)):\n",
    "        parent1, parent2 = random.choices(elite_population, k=2)\n",
    "        alpha = random.uniform(0.2, 0.8)\n",
    "        child = alpha * parent1 + (1 - alpha) * parent2\n",
    "        mutation_rate = 0.1\n",
    "        if random.random() < mutation_rate:\n",
    "            mutation = np.random.normal(0, 0.05, num_stocks)  # Add a small amount of noise\n",
    "            child += mutation\n",
    "        child = np.maximum(0, child)\n",
    "        child = child / sum(child) \n",
    "        new_population.append(child)\n",
    "    population = elite_population + new_population    # Replace the old population with the new generation\n",
    "\n",
    "best_portfolio_weights = max(population, key=portfolio_sharpe_ratio)\n",
    "\n",
    "\n",
    "print(\"Optimal Asset Allocations using Genetic Algorithm:\")\n",
    "for i, symbol in enumerate(tickers):\n",
    "    print(f\"{symbol}: {best_portfolio_weights[i]:.4f}\")\n",
    "\n",
    "best_portfolio_return = np.sum(expected_returns * best_portfolio_weights)\n",
    "best_portfolio_risk = np.sqrt(np.dot(best_portfolio_weights.T, np.dot(covariance_matrix, best_portfolio_weights)))\n",
    "sharpe_ratio= best_portfolio_return/best_portfolio_risk\n",
    "\n",
    "\n",
    "print(f\"Expected Portfolio Return: {best_portfolio_return:.4f}\")\n",
    "print(f\"Portfolio Risk (Standard Deviation): {best_portfolio_risk:.4f}\")\n",
    "print(f\"Sharpe Ratio : {sharpe_ratio:.4f}\")"
   ]
  }
 ],
 "metadata": {
  "kernelspec": {
   "display_name": ".venv",
   "language": "python",
   "name": "python3"
  },
  "language_info": {
   "codemirror_mode": {
    "name": "ipython",
    "version": 3
   },
   "file_extension": ".py",
   "mimetype": "text/x-python",
   "name": "python",
   "nbconvert_exporter": "python",
   "pygments_lexer": "ipython3",
   "version": "3.10.2"
  },
  "orig_nbformat": 4
 },
 "nbformat": 4,
 "nbformat_minor": 2
}
