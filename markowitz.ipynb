{
 "cells": [
  {
   "cell_type": "code",
   "execution_count": 4,
   "metadata": {},
   "outputs": [],
   "source": [
    "import numpy as np\n",
    "import pandas as pd\n",
    "from pprint import pprint\n",
    "import yfinance as yf\n",
    "from scipy.optimize import minimize"
   ]
  },
  {
   "cell_type": "code",
   "execution_count": 5,
   "metadata": {},
   "outputs": [],
   "source": [
    "tickers=[\"AAPL\",\"MSFT\",\"AMZN\",\"GOOGL\"]\n",
    "num_stocks=len(tickers)\n",
    "\n",
    "cl_price=pd.DataFrame()"
   ]
  },
  {
   "cell_type": "code",
   "execution_count": 6,
   "metadata": {},
   "outputs": [
    {
     "name": "stdout",
     "output_type": "stream",
     "text": [
      "[*********************100%%**********************]  1 of 1 completed\n",
      "[*********************100%%**********************]  1 of 1 completed\n",
      "[*********************100%%**********************]  1 of 1 completed\n",
      "[*********************100%%**********************]  1 of 1 completed\n"
     ]
    }
   ],
   "source": [
    "for ticker in tickers:\n",
    "    cl_price[ticker]=yf.download(ticker,period=\"1y\",interval=\"1d\")[\"Adj Close\"]\n",
    "\n",
    "cl_price.to_csv(\"Closing_price.csv\")"
   ]
  },
  {
   "cell_type": "code",
   "execution_count": 8,
   "metadata": {},
   "outputs": [
    {
     "name": "stdout",
     "output_type": "stream",
     "text": [
      "Optimal Asset Allocations:\n",
      "AAPL: 0.1916\n",
      "MSFT: 0.6111\n",
      "AMZN: 0.1973\n",
      "GOOGL: 0.0000\n",
      "Expected Portfolio Return: 0.4122\n",
      "Portfolio Risk (Standard Deviation): 0.2329\n"
     ]
    }
   ],
   "source": [
    "returns = cl_price.pct_change().dropna()\n",
    "expected_returns = returns.mean()*252\n",
    "covariance_matrix = returns.cov()*252\n",
    "initial_weights = np.array([1.0 / num_stocks] * num_stocks)\n",
    "\n",
    "def portfolio_risk(weights):\n",
    "    portfolio_variance = np.dot(weights.T, np.dot(covariance_matrix, weights))\n",
    "    return portfolio_variance\n",
    "\n",
    "def sharpe_ratio(weights):\n",
    "    p_risk = np.sqrt(np.dot(weights.T, np.dot(covariance_matrix, weights)))\n",
    "    p_ret = np.sum((expected_returns * weights) * 252)\n",
    "    return -p_ret/p_risk\n",
    "\n",
    "constraints = ({'type': 'eq', 'fun': lambda weights: np.sum(weights) - 1})\n",
    "bounds = tuple((0, 1) for asset in range(num_stocks))\n",
    "result = minimize(sharpe_ratio, initial_weights, method='SLSQP', bounds=bounds, constraints=constraints)\n",
    "optimal_weights = result.x\n",
    "portfolio_expected_return = np.dot(expected_returns, optimal_weights)\n",
    "portfolio_risk = np.sqrt(np.dot(optimal_weights.T, np.dot(covariance_matrix, optimal_weights)))\n",
    "\n",
    "print(\"Optimal Asset Allocations:\")\n",
    "for i, symbol in enumerate(tickers):\n",
    "    print(f\"{symbol}: {optimal_weights[i]:.4f}\")\n",
    "\n",
    "print(f\"Expected Portfolio Return: {portfolio_expected_return:.4f}\")\n",
    "print(f\"Portfolio Risk (Standard Deviation): {portfolio_risk:.4f}\")\n",
    "\n",
    "\n",
    "\n",
    "\n",
    "\n"
   ]
  }
 ],
 "metadata": {
  "kernelspec": {
   "display_name": ".venv",
   "language": "python",
   "name": "python3"
  },
  "language_info": {
   "codemirror_mode": {
    "name": "ipython",
    "version": 3
   },
   "file_extension": ".py",
   "mimetype": "text/x-python",
   "name": "python",
   "nbconvert_exporter": "python",
   "pygments_lexer": "ipython3",
   "version": "3.10.2"
  },
  "orig_nbformat": 4
 },
 "nbformat": 4,
 "nbformat_minor": 2
}
