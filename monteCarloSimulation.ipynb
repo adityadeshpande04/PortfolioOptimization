{
 "cells": [
  {
   "cell_type": "code",
   "execution_count": 1,
   "metadata": {},
   "outputs": [],
   "source": [
    "import numpy as np\n",
    "import pandas as pd\n",
    "from pprint import pprint\n",
    "import yfinance as yf\n"
   ]
  },
  {
   "cell_type": "code",
   "execution_count": 2,
   "metadata": {},
   "outputs": [],
   "source": [
    "\n",
    "tickers=[\"AAPL\",\"MSFT\",\"AMZN\",\"GOOGL\"]\n",
    "num_stocks=len(tickers)\n",
    "\n",
    "cl_price=pd.DataFrame()"
   ]
  },
  {
   "cell_type": "code",
   "execution_count": 3,
   "metadata": {},
   "outputs": [
    {
     "name": "stdout",
     "output_type": "stream",
     "text": [
      "[*********************100%%**********************]  1 of 1 completed\n",
      "[*********************100%%**********************]  1 of 1 completed\n",
      "[*********************100%%**********************]  1 of 1 completed\n",
      "[*********************100%%**********************]  1 of 1 completed\n"
     ]
    }
   ],
   "source": [
    "for ticker in tickers:\n",
    "    cl_price[ticker]=yf.download(ticker,period=\"1y\",interval=\"1d\")[\"Close\"]\n",
    "\n",
    "cl_price.to_csv(\"Closing_price.csv\")"
   ]
  },
  {
   "cell_type": "code",
   "execution_count": 4,
   "metadata": {},
   "outputs": [
    {
     "name": "stdout",
     "output_type": "stream",
     "text": [
      "                AAPL      MSFT      AMZN     GOOGL\n",
      "Date                                              \n",
      "2022-10-06       NaN       NaN       NaN       NaN\n",
      "2022-10-07 -0.037410 -0.052191 -0.048890 -0.027388\n",
      "2022-10-10  0.002353 -0.021533 -0.007799 -0.008344\n",
      "2022-10-11 -0.010308 -0.016892 -0.012927 -0.006973\n",
      "2022-10-12 -0.004616  0.001507  0.006130  0.003903\n",
      "...              ...       ...       ...       ...\n",
      "2023-09-29  0.003042  0.006705  0.009008 -0.011020\n",
      "2023-10-02  0.014727  0.018979  0.018240  0.024980\n",
      "2023-10-03 -0.007800 -0.026482 -0.037301 -0.013053\n",
      "2023-10-04  0.007282  0.017617  0.018116  0.020997\n",
      "2023-10-05  0.007172  0.001253 -0.008223 -0.001258\n",
      "\n",
      "[251 rows x 4 columns]\n",
      "[0.44179836 0.62812274 0.24964511 0.05858868]\n",
      "[0.32057235 0.45577079 0.18114445 0.0425124 ]\n",
      "0.19874572270574653\n",
      "0.26959600570410036\n"
     ]
    }
   ],
   "source": [
    "\n",
    "log_return = np.log(1+cl_price.pct_change())\n",
    "print(log_return)\n",
    "\n",
    "returns=cl_price.pct_change().dropna()\n",
    "\n",
    "random_weights = np.array(np.random.random(num_stocks))\n",
    "print(random_weights)\n",
    "\n",
    "rebalance_weights = random_weights / np.sum(random_weights)\n",
    "print(rebalance_weights)\n",
    "\n",
    "exp_ret = np.sum((log_return.mean() * rebalance_weights) * 252)\n",
    "print(exp_ret)\n",
    "\n",
    "exp_vol = np.sqrt(\n",
    "np.dot(\n",
    "    rebalance_weights.T,\n",
    "    np.dot(\n",
    "        log_return.cov() * 252,\n",
    "        rebalance_weights\n",
    "    )\n",
    ")\n",
    ")\n",
    "print(exp_vol)\n",
    "\n",
    "sharpe_ratio = exp_ret / exp_vol\n",
    "\n"
   ]
  },
  {
   "cell_type": "code",
   "execution_count": 5,
   "metadata": {},
   "outputs": [
    {
     "name": "stdout",
     "output_type": "stream",
     "text": [
      "SIMULATIONS RESULT:\n",
      "<bound method DataFrame.to_markdown of        Returns  Volatility  Sharpe Ratio  \\\n",
      "0     0.243190    0.273625      0.888770   \n",
      "1     0.284858    0.275657      1.033378   \n",
      "2     0.210302    0.269386      0.780673   \n",
      "3     0.285308    0.273384      1.043616   \n",
      "4     0.258893    0.279208      0.927241   \n",
      "...        ...         ...           ...   \n",
      "4995  0.251345    0.296929      0.846482   \n",
      "4996  0.209631    0.274571      0.763484   \n",
      "4997  0.233243    0.300399      0.776444   \n",
      "4998  0.260191    0.284249      0.915363   \n",
      "4999  0.251429    0.270444      0.929687   \n",
      "\n",
      "                                      Portfolio Weights  \n",
      "0     [0.37028088545962157, 0.10589631265237075, 0.2...  \n",
      "1     [0.2356557160525137, 0.3172921276593095, 0.086...  \n",
      "2     [0.5093002053701344, 0.09018852063583524, 0.30...  \n",
      "3     [0.3424343443194496, 0.1941585594828521, 0.048...  \n",
      "4     [0.274656878530648, 0.1441959810382811, 0.2113...  \n",
      "...                                                 ...  \n",
      "4995  [0.030189118966326547, 0.4232004761402998, 0.3...  \n",
      "4996  [0.4444125792847839, 0.07710028866308818, 0.34...  \n",
      "4997  [0.04020487400487375, 0.5052533225178824, 0.38...  \n",
      "4998  [0.15952613346968036, 0.2824585198811917, 0.24...  \n",
      "4999  [0.37301678441907654, 0.1599132514873311, 0.18...  \n",
      "\n",
      "[5000 rows x 4 columns]>\n"
     ]
    }
   ],
   "source": [
    "\n",
    "num_of_portfolios = 5000  #number of simulations\n",
    "all_weights = np.zeros((num_of_portfolios, num_stocks))\n",
    "ret_arr = np.zeros(num_of_portfolios)\n",
    "vol_arr = np.zeros(num_of_portfolios)\n",
    "sharpe_arr = np.zeros(num_of_portfolios)\n",
    "\n",
    "for ind in range(num_of_portfolios):\n",
    "    weights = np.array(np.random.random(num_stocks))\n",
    "    weights = weights / np.sum(weights)\n",
    "    all_weights[ind, :] = weights\n",
    "    ret_arr[ind] = np.sum((returns.mean() * weights)*252)\n",
    "    vol_arr[ind] = np.sqrt(\n",
    "        np.dot(weights.T, np.dot(log_return.cov() * 252, weights))\n",
    "    )\n",
    "    sharpe_arr[ind] = ret_arr[ind]/vol_arr[ind]\n",
    "\n",
    "simulations_data = [ret_arr, vol_arr, sharpe_arr, all_weights]\n",
    "simulations_df = pd.DataFrame(data=simulations_data).T\n",
    "simulations_df.columns = [\n",
    "    'Returns',\n",
    "    'Volatility',\n",
    "    'Sharpe Ratio',\n",
    "    'Portfolio Weights'\n",
    "]\n",
    "simulations_df = simulations_df.infer_objects()\n",
    "print('SIMULATIONS RESULT:')\n",
    "print(simulations_df.to_markdown)"
   ]
  },
  {
   "cell_type": "code",
   "execution_count": 6,
   "metadata": {},
   "outputs": [
    {
     "name": "stdout",
     "output_type": "stream",
     "text": [
      "MAX SHARPE RATIO:\n",
      "Returns                                                       0.310903\n",
      "Volatility                                                    0.283899\n",
      "Sharpe Ratio                                                   1.09512\n",
      "Portfolio Weights    [0.14207638749091428, 0.4023563458683381, 0.00...\n",
      "Name: 2696, dtype: object\n",
      "MIN VOLATILITY:\n",
      "Returns                                                       0.245318\n",
      "Volatility                                                    0.259347\n",
      "Sharpe Ratio                                                  0.945909\n",
      "Portfolio Weights    [0.5909788900530164, 0.24833435920961433, 0.08...\n",
      "Name: 866, dtype: object\n"
     ]
    }
   ],
   "source": [
    "\n",
    "max_sharpe_ratio = simulations_df.loc[simulations_df['Sharpe Ratio'].idxmax()]\n",
    "min_volatility = simulations_df.loc[simulations_df['Volatility'].idxmin()]\n",
    "print('MAX SHARPE RATIO:')\n",
    "print(max_sharpe_ratio)\n",
    "print('MIN VOLATILITY:')\n",
    "print(min_volatility)\n"
   ]
  }
 ],
 "metadata": {
  "kernelspec": {
   "display_name": ".venv",
   "language": "python",
   "name": "python3"
  },
  "language_info": {
   "codemirror_mode": {
    "name": "ipython",
    "version": 3
   },
   "file_extension": ".py",
   "mimetype": "text/x-python",
   "name": "python",
   "nbconvert_exporter": "python",
   "pygments_lexer": "ipython3",
   "version": "3.10.2"
  },
  "orig_nbformat": 4
 },
 "nbformat": 4,
 "nbformat_minor": 2
}
